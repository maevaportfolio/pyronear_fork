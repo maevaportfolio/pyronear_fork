{
 "cells": [
  {
   "cell_type": "code",
   "execution_count": null,
   "metadata": {},
   "outputs": [],
   "source": [
    "# Import the process_image function from processing module\n",
    "from processing import process_image\n",
    "\n",
    "# Define the paths for your image and label\n",
    "image_path = \"images/aiformankind_v1_000007.jpg\"\n",
    "label_path = \"images/aiformankind_v1_000007.txt\"\n",
    "\n",
    "# Define the class names associated with your labels\n",
    "class_names = [\"smoke\"]\n",
    "\n",
    "# Process the image and possibly display it, depending on your function's implementation\n",
    "process_image(image_path, label_path, class_names)\n"
   ]
  }
 ],
 "metadata": {
  "language_info": {
   "name": "python"
  }
 },
 "nbformat": 4,
 "nbformat_minor": 2
}
